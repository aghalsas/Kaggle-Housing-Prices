{
 "cells": [
  {
   "cell_type": "code",
   "execution_count": 1,
   "metadata": {},
   "outputs": [],
   "source": [
    "## Auxillary functions needed for our analysis"
   ]
  },
  {
   "cell_type": "code",
   "execution_count": 2,
   "metadata": {},
   "outputs": [],
   "source": [
    "import pandas as pd\n",
    "import matplotlib.pyplot as plt\n",
    "import seaborn as sns\n",
    "import numpy as np\n",
    "from scipy.stats import norm\n",
    "from sklearn.preprocessing import StandardScaler\n",
    "from sklearn.linear_model import RidgeCV\n",
    "from scipy import stats\n",
    "import warnings\n",
    "warnings.filterwarnings('ignore')"
   ]
  },
  {
   "cell_type": "code",
   "execution_count": 3,
   "metadata": {},
   "outputs": [],
   "source": [
    "#Convert categorical features to numerical features by arranging them in ascending order of the target\n",
    "#Inputs are pandas dataframes\n",
    "def cattonum(df,dftest,feature,target):\n",
    "    meanstd = np.zeros([df[feature].nunique(),2])\n",
    "    for i,x in enumerate(df[feature].unique()):\n",
    "        meanstd[i,0] = df[df[feature]==x][target].mean()\n",
    "        meanstd[i,1] = df[df[feature]==x][target].std()\n",
    "    s = meanstd[:,0].argsort()\n",
    "    meanstd = meanstd[s]\n",
    "    labels = df[feature].unique()[s]\n",
    "\n",
    "    plt.errorbar(range(0,s.shape[0]), meanstd[:,0], 0.5*meanstd[:,1], marker='o', mfc='red',\n",
    "         mec='blue', ms=2, mew=4)\n",
    "    plt.xticks(range(0,s.shape[0]), labels, rotation='vertical')\n",
    "    df[feature] = df[feature].replace(labels,range(1,s.shape[0]+1))\n",
    "    dftest[feature] = dftest[feature].replace(labels,range(1,s.shape[0]+1))\n",
    "    return None"
   ]
  },
  {
   "cell_type": "code",
   "execution_count": 4,
   "metadata": {},
   "outputs": [],
   "source": [
    "def cattonum1(df,dftest,feature,target):\n",
    "    meanstd = np.zeros([df[feature].nunique(),2])\n",
    "    for i,x in enumerate(df[feature].unique()):\n",
    "        meanstd[i,0] = df[df[feature]==x][target].mean()\n",
    "        meanstd[i,1] = df[df[feature]==x][target].std()\n",
    "    s = meanstd[:,0].argsort()\n",
    "    meanstd = meanstd[s]\n",
    "    labels = df[feature].unique()[s]\n",
    "\n",
    "#    plt.errorbar(range(1,s.shape[0]+1), meanstd[:,0], 0.5*meanstd[:,1], marker='o', mfc='red',\n",
    "#         mec='blue', ms=2, mew=4)\n",
    "    plt.plot([1,s.shape[0]], [meanstd[0,0],meanstd[-1,0]], 'black', linestyle='--', marker='')\n",
    "    plt.xticks(range(1,s.shape[0]+1), labels, rotation='vertical')\n",
    "    eng_lab = 1+(meanstd[:,0]-meanstd[0,0])*((s.shape[0]-1)/(meanstd[-1,0]-meanstd[0,0]))\n",
    "    #print(eng_lab)\n",
    "    #df[feature] = df[feature].replace(labels,range(1,s.shape[0]+1))\n",
    "    df[feature] = df[feature].replace(labels,eng_lab)\n",
    "    plt.errorbar(eng_lab, meanstd[:,0], 0.5*meanstd[:,1], marker='o', mfc='red',\n",
    "         mec='blue', ms=2, mew=4)\n",
    "    dftest[feature] = dftest[feature].replace(labels,eng_lab)\n",
    "    \n",
    "    \n",
    "    return None"
   ]
  },
  {
   "cell_type": "code",
   "execution_count": 5,
   "metadata": {},
   "outputs": [],
   "source": [
    "# Let me start with data first  that is numerical continuous and not categorical.An easy way to do that is to find nunique\n",
    "def dropcategorical(df,dftest,n):\n",
    "    #drops columns which have no. of features less than n\n",
    "    df_copy = df.copy()\n",
    "    dftest_copy = dftest.copy()\n",
    "    numerics = ['int16', 'int32', 'int64', 'float16', 'float32', 'float64','uint8']\n",
    "    df_copy = df_copy.select_dtypes(numerics)\n",
    "    dftest_copy = dftest_copy.select_dtypes(numerics)\n",
    "    l = []\n",
    "    for i,x in enumerate(df_copy.nunique()):\n",
    "        if x < n:\n",
    "            l.append(df_copy.columns[i])\n",
    "    df_copy.drop(l,axis=1,inplace=True)\n",
    "    dftest_copy.drop(l,axis=1,inplace=True)\n",
    "    return df_copy,dftest_copy,l"
   ]
  },
  {
   "cell_type": "code",
   "execution_count": 8,
   "metadata": {},
   "outputs": [],
   "source": [
    "# Now let us start systematically starting w/ features strongly corellated w/ salesprice and work our way through. I will use\n",
    "# sklearn for this process\n",
    "def withncontfeatures(train,test,n):\n",
    "    if n > train.shape[1]-1:\n",
    "        print('too many features')\n",
    "        return\n",
    "    corrmat = train.corr()\n",
    "    k = train_cont.shape[1] #number of variables for heatmap\n",
    "    cols = corrmat.nlargest(k, 'SalePrice')['SalePrice'].index\n",
    "    cm = np.corrcoef(train_cont[cols].values.T)\n",
    "    l = cols[np.argsort(np.abs(cm[0]))[::-1][1:n+1]].values#n+1 because just 1:1 gives the index only\n",
    "#    print(l[-1])\n",
    "    trainX = train[l]\n",
    "    trainX = (trainX-trainX.mean(axis=0))/trainX.std(axis=0)\n",
    "#    trainy = train.iloc[:,[-1]].values\n",
    "    trainy = train['SalePrice'].values\n",
    "    \n",
    "    testX = test[l]\n",
    "    testX = (testX-testX.mean(axis=0))/testX.std(axis=0)\n",
    "\n",
    "    a = np.logspace(0,3,100)\n",
    "    ridge = RidgeCV(alphas=a).fit(trainX, trainy)\n",
    "    pred = ridge.predict(trainX)\n",
    "    testpred = ridge.predict(testX)\n",
    "    alpha = ridge.alpha_\n",
    "\n",
    "    pred[pred < 0] = np.mean(trainy)\n",
    "    err = np.sqrt(((pred-trainy)**2).sum()/len(trainy))\n",
    "    return err,alpha,l,testpred,pred"
   ]
  },
  {
   "cell_type": "code",
   "execution_count": null,
   "metadata": {},
   "outputs": [],
   "source": []
  }
 ],
 "metadata": {
  "kernelspec": {
   "display_name": "Python 3",
   "language": "python",
   "name": "python3"
  },
  "language_info": {
   "codemirror_mode": {
    "name": "ipython",
    "version": 3
   },
   "file_extension": ".py",
   "mimetype": "text/x-python",
   "name": "python",
   "nbconvert_exporter": "python",
   "pygments_lexer": "ipython3",
   "version": "3.7.0"
  }
 },
 "nbformat": 4,
 "nbformat_minor": 2
}
