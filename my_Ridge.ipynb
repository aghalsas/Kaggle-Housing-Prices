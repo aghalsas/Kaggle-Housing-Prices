{
 "cells": [
  {
   "cell_type": "code",
   "execution_count": 5,
   "metadata": {},
   "outputs": [],
   "source": [
    "#Implementing my own version of Ridge regression"
   ]
  },
  {
   "cell_type": "code",
   "execution_count": 2,
   "metadata": {},
   "outputs": [],
   "source": [
    "import numpy as np\n",
    "import pandas as pd\n",
    "import matplotlib.pyplot as plt"
   ]
  },
  {
   "cell_type": "code",
   "execution_count": 3,
   "metadata": {},
   "outputs": [
    {
     "data": {
      "text/plain": [
       "(1458, 81)"
      ]
     },
     "execution_count": 3,
     "metadata": {},
     "output_type": "execute_result"
    }
   ],
   "source": [
    "train = pd.read_csv('train.csv')\n",
    "#train['OverallQual'] = train['OverallQual']**10\n",
    "train['OverallQual'] = np.exp(train['OverallQual'])\n",
    "train = train.drop(train[(train['GrLivArea']>4000) & (train['SalePrice']<300000)].index)\n",
    "train.shape"
   ]
  },
  {
   "cell_type": "code",
   "execution_count": 4,
   "metadata": {},
   "outputs": [],
   "source": [
    "def split_array(data,k):\n",
    "    idx = np.arange(data.shape[0])\n",
    "    np.random.shuffle(idx)\n",
    "    idx_split = np.array_split(idx,k)\n",
    "    return idx_split"
   ]
  },
  {
   "cell_type": "code",
   "execution_count": 9,
   "metadata": {},
   "outputs": [],
   "source": [
    "def crossval(data,output,k,l):\n",
    "    #data is a numpy array with only numbers\n",
    "    \n",
    "    if (data.shape[0]*(k-1)//k) < data.shape[1]:\n",
    "        print('validation set has less data than number of features')\n",
    "    #generating random indices\n",
    "    idx_split = split_array(data,k)\n",
    "    \n",
    "    err_matrix = np.zeros(len(idx_split))\n",
    "    w_matrix = np.zeros((data.shape[1],len(idx_split)))\n",
    "    \n",
    "    #split data into training and validation set\n",
    "    mean_pred = 0\n",
    "    for i in range(0,len(idx_split)):\n",
    "        \n",
    "        validx = idx_split[i]\n",
    "        val = data[validx,:]\n",
    "        valo = output[validx]\n",
    "        tridx =np.concatenate(np.delete(idx_split,i,0))\n",
    "        tr = data[tridx,:]\n",
    "        tro = output[tridx]\n",
    "        \n",
    "        xTx = np.dot(tr.transpose(),tr)\n",
    "        L = l*np.identity(tr.shape[1])\n",
    "        L[0,0]=0\n",
    "        xTx = xTx+L\n",
    "        inv = np.linalg.pinv(xTx)\n",
    "        \n",
    "        w = inv.dot(tr.transpose()).dot(tro)\n",
    "        valpred = val.dot(w)\n",
    "        err = np.sqrt(((np.log(valpred)-np.log(valo))**2).sum()/len(valo))\n",
    "        \n",
    "        err_matrix[i] = err\n",
    "        w_matrix[:,[i]] = w                \n",
    "    \n",
    "    return err_matrix.mean(),err_matrix.std(),w_matrix.mean(axis=1)\n",
    "    "
   ]
  },
  {
   "cell_type": "code",
   "execution_count": 94,
   "metadata": {},
   "outputs": [],
   "source": [
    "def my_Ridge(data,output,k,m,reg_max):\n",
    "    ## Preprocess the data that should be a pandas data frame for now\n",
    "    numerics = ['int16', 'int32', 'int64', 'float16', 'float32', 'float64']\n",
    "    ppdf = data.select_dtypes(numerics)\n",
    "    \n",
    "    ##replace NaN with column average\n",
    "    ppdf = ppdf.fillna(ppdf.mean())\n",
    "    \n",
    "    # turn input and output into numpy arrays\n",
    "    cnames = list(ppdf.columns.values)\n",
    "    ppdf = ppdf.values #convert to numpy array\n",
    "    output = output.values\n",
    "    \n",
    "    ##Detect index column and warn about it\n",
    "    if np.array(ppdf[ppdf.shape[0]-1,[0]]-ppdf[[0],[0]])==ppdf.shape[0]-1:\n",
    "        print('First column might be index column. Check data')\n",
    "    \n",
    "    ##Normalize all the columns for ridge regression.\n",
    "    ppdf_norm = (ppdf-ppdf.mean(axis=0))/ppdf.std(axis=0)\n",
    "    \n",
    "    \n",
    "    ##Add the column of ones for the offset\n",
    "    A = np.ones((ppdf_norm.shape[0],ppdf_norm.shape[1]+1))\n",
    "    A[:,1:] = ppdf_norm\n",
    "    ppdf_norm = A\n",
    "        \n",
    "    testxTx = np.dot(ppdf_norm.transpose(),ppdf_norm)\n",
    "    mean_ans = np.zeros(m)\n",
    "    std_ans = np.zeros(m)\n",
    "\n",
    "    for l in np.linspace(0,reg_max,m):\n",
    "        mean_ans[np.where(np.linspace(0,reg_max,m)==l)] = crossval(ppdf_norm,output,k,l)[0]\n",
    "        std_ans[np.where(np.linspace(0,reg_max,m)==l)] = crossval(ppdf_norm,output,k,l)[1]\n",
    "        #temporary for debugging purposes\n",
    "        w_dbg = crossval(ppdf_norm,output,k,l)[2]\n",
    "    \n",
    "    y_dbg = np.dot(ppdf_norm,w_dbg)\n",
    "    plt.errorbar(np.linspace(0,reg_max,m), mean_ans, 0.5*std_ans, marker='o', mfc='red',\n",
    "         mec='blue', ms=2, mew=4)\n",
    "    return mean_ans,std_ans,y_dbg,testxTx,ppdf_norm\n",
    "    "
   ]
  },
  {
   "cell_type": "code",
   "execution_count": 97,
   "metadata": {},
   "outputs": [
    {
     "data": {
      "text/plain": [
       "array([0.15510163, 0.15967257, 0.15640767, 0.15328019, 0.15714683,\n",
       "       0.15296431, 0.15347417, 0.15653756, 0.15872898, 0.15559394,\n",
       "       0.15406337])"
      ]
     },
     "execution_count": 97,
     "metadata": {},
     "output_type": "execute_result"
    },
    {
     "data": {
      "image/png": "[encoded data removed]",
      "text/plain": [
       "<Figure size 432x288 with 1 Axes>"
      ]
     },
     "metadata": {
      "needs_background": "light"
     },
     "output_type": "display_data"
    }
   ],
   "source": [
    "a = my_Ridge(train.iloc[:,1:-1],train.iloc[:,[-1]],5,11,1)\n",
    "a[0]"
   ]
  },
  {
   "cell_type": "code",
   "execution_count": 93,
   "metadata": {},
   "outputs": [
    {
     "data": {
      "text/plain": [
       "1458.000000000005"
      ]
     },
     "execution_count": 93,
     "metadata": {},
     "output_type": "execute_result"
    }
   ],
   "source": [
    "a[3][10,10]"
   ]
  },
  {
   "cell_type": "code",
   "execution_count": 108,
   "metadata": {},
   "outputs": [
    {
     "data": {
      "text/plain": [
       "1458.0"
      ]
     },
     "execution_count": 108,
     "metadata": {},
     "output_type": "execute_result"
    }
   ],
   "source": [
    "(a[4][:,1]**2).sum()"
   ]
  },
  {
   "cell_type": "code",
   "execution_count": 100,
   "metadata": {},
   "outputs": [
    {
     "data": {
      "text/plain": [
       "[<matplotlib.lines.Line2D at 0x1adeb900550>]"
      ]
     },
     "execution_count": 100,
     "metadata": {},
     "output_type": "execute_result"
    },
    {
     "data": {
      "image/png": "[encoded data removed]",
      "text/plain": [
       "<Figure size 432x288 with 1 Axes>"
      ]
     },
     "metadata": {
      "needs_background": "light"
     },
     "output_type": "display_data"
    }
   ],
   "source": [
    "plt.plot(a[2],train.iloc[:,-1].values,'bo')\n",
    "plt.plot([1, 600000], [1, 600000], 'k-', lw=2)\n"
   ]
  },
  {
   "cell_type": "code",
   "execution_count": 20,
   "metadata": {},
   "outputs": [
    {
     "data": {
      "text/plain": [
       "(array([  2.,   1.,   0.,   0.,   1.,   2.,   2.,   0.,   2.,   2.,   4.,\n",
       "          7.,  13.,  16.,  34.,  64., 158., 261., 361., 255., 149.,  62.,\n",
       "         26.,  16.,   8.,   2.,   5.,   1.,   3.,   1.]),\n",
       " array([-195870.95692152, -185197.5509698 , -174524.14501807,\n",
       "        -163850.73906635, -153177.33311462, -142503.9271629 ,\n",
       "        -131830.52121117, -121157.11525945, -110483.70930773,\n",
       "         -99810.303356  ,  -89136.89740428,  -78463.49145255,\n",
       "         -67790.08550083,  -57116.6795491 ,  -46443.27359738,\n",
       "         -35769.86764566,  -25096.46169393,  -14423.05574221,\n",
       "          -3749.64979048,    6923.75616124,   17597.16211297,\n",
       "          28270.56806469,   38943.97401641,   49617.37996814,\n",
       "          60290.78591986,   70964.19187159,   81637.59782331,\n",
       "          92311.00377504,  102984.40972676,  113657.81567849,\n",
       "         124331.22163021]),\n",
       " <a list of 30 Patch objects>)"
      ]
     },
     "execution_count": 20,
     "metadata": {},
     "output_type": "execute_result"
    },
    {
     "data": {
      "image/png": "[encoded data removed]",
      "text/plain": [
       "<Figure size 432x288 with 1 Axes>"
      ]
     },
     "metadata": {
      "needs_background": "light"
     },
     "output_type": "display_data"
    }
   ],
   "source": [
    "plt.hist(a[2] - train.iloc[:,-1].values,30)"
   ]
  },
  {
   "cell_type": "code",
   "execution_count": null,
   "metadata": {},
   "outputs": [],
   "source": []
  }
 ],
 "metadata": {
  "kernelspec": {
   "display_name": "Python 3",
   "language": "python",
   "name": "python3"
  },
  "language_info": {
   "codemirror_mode": {
    "name": "ipython",
    "version": 3
   },
   "file_extension": ".py",
   "mimetype": "text/x-python",
   "name": "python",
   "nbconvert_exporter": "python",
   "pygments_lexer": "ipython3",
   "version": "3.7.0"
  }
 },
 "nbformat": 4,
 "nbformat_minor": 2
}
