{
 "cells": [
  {
   "cell_type": "code",
   "execution_count": 5,
   "metadata": {},
   "outputs": [],
   "source": [
    "#Implementing my own version of Ridge regression"
   ]
  },
  {
   "cell_type": "code",
   "execution_count": 5,
   "metadata": {},
   "outputs": [],
   "source": [
    "import numpy as np\n",
    "import pandas as pd\n",
    "import matplotlib.pyplot as plt"
   ]
  },
  {
   "cell_type": "code",
   "execution_count": 47,
   "metadata": {},
   "outputs": [
    {
     "data": {
      "text/plain": [
       "(1458, 81)"
      ]
     },
     "execution_count": 47,
     "metadata": {},
     "output_type": "execute_result"
    }
   ],
   "source": [
    "train = pd.read_csv('train.csv')\n",
    "#train['OverallQual'] = train['OverallQual']**10\n",
    "train['OverallQual'] = np.exp(train['OverallQual'])\n",
    "train = train.drop(train[(train['GrLivArea']>4000) & (train['SalePrice']<300000)].index)\n",
    "train.shape"
   ]
  },
  {
   "cell_type": "code",
   "execution_count": 52,
   "metadata": {},
   "outputs": [],
   "source": [
    "def crossval(data,output,k,l):\n",
    "    #data is a numpy array with only numbers\n",
    "    \n",
    "    #generating random indices\n",
    "    if (data.shape[0]*(k-1)//k) < data.shape[1]:\n",
    "        print('validation set has less data than number of features')\n",
    "    idx = np.arange(data.shape[0])\n",
    "    np.random.shuffle(idx)\n",
    "    idx_split = np.array_split(idx,k)\n",
    "    #print(idx_split[0])\n",
    "    err_matrix = np.zeros(len(idx_split))\n",
    "    w_matrix = np.zeros((data.shape[1],len(idx_split)))\n",
    "    #split data into training and validation set\n",
    "    mean_pred = 0\n",
    "    for i in range(0,len(idx_split)):\n",
    "        \n",
    "        validx = idx_split[i]\n",
    "        val = data[validx,:]\n",
    "        valo = output[validx]\n",
    "        tridx =np.concatenate(np.delete(idx_split,i,0))\n",
    "        tr = data[tridx,:]\n",
    "        tro = output[tridx]\n",
    "        \n",
    "        xTx = np.dot(tr.transpose(),tr)\n",
    "        #print(\"xTx\",xTx.shape,xTx.mean())\n",
    "        L = l*np.identity(tr.shape[1])\n",
    "        L[0,0]=0\n",
    "        xTx = xTx+L\n",
    "        inv = np.linalg.pinv(xTx)\n",
    "        \n",
    "        w = inv.dot(tr.transpose()).dot(tro)\n",
    "        valpred = val.dot(w)\n",
    "        err = np.sqrt(((np.log(valpred)-np.log(valo))**2).sum()/len(valo))\n",
    "        \n",
    "        err_matrix[i] = err\n",
    "        w_matrix[:,[i]] = w\n",
    "        \n",
    "#        mean_pred = mean_pred + valpred\n",
    "        \n",
    "    \n",
    "    return err_matrix.mean(),err_matrix.std(),w_matrix.mean(axis=1)\n",
    "    "
   ]
  },
  {
   "cell_type": "code",
   "execution_count": 53,
   "metadata": {},
   "outputs": [],
   "source": [
    "def my_Ridge(data,output):\n",
    "    ## Preprocess the data that should be a pandas data frame for now\n",
    "    numerics = ['int16', 'int32', 'int64', 'float16', 'float32', 'float64']\n",
    "    ppdf = data.select_dtypes(numerics)\n",
    "    \n",
    "    ##replace NaN with column average\n",
    "    ppdf = ppdf.fillna(ppdf.mean())\n",
    "    \n",
    "    cnames = list(ppdf.columns.values)\n",
    "    ppdf = ppdf.values #convert to numpy array\n",
    "    output = output.values\n",
    "    ##Detect index column and warn about it\n",
    "    if np.array(ppdf[ppdf.shape[0]-1,[0]]-ppdf[[0],[0]])==ppdf.shape[0]-1:\n",
    "        print('First column might be index column. Check data')\n",
    "    \n",
    "    ##Normalize all the columns for ridge regression.\n",
    "    ppdf_norm = (ppdf-ppdf.mean(axis=0))/ppdf.std(axis=0)\n",
    "    \n",
    "    \n",
    "    ##Add the column of ones for the offset\n",
    "    A = np.ones((ppdf_norm.shape[0],ppdf_norm.shape[1]+1))\n",
    "    A[:,1:] = ppdf_norm\n",
    "    ppdf_norm = A\n",
    "        \n",
    "    testxTx = np.dot(ppdf_norm.transpose(),ppdf_norm)\n",
    "    #err = np.sqrt(((valpred-valo)**2).sum())/len(valo)\n",
    "    m = 11\n",
    "    mean_ans = np.zeros(m)\n",
    "    std_ans = np.zeros(m)\n",
    "    reg_max = 0\n",
    "    for l in np.linspace(0,reg_max,m):\n",
    "        mean_ans[np.where(np.linspace(0,reg_max,m)==l)] = crossval(ppdf_norm,output,5,l)[0]\n",
    "        std_ans[np.where(np.linspace(0,reg_max,m)==l)] = crossval(ppdf_norm,output,5,l)[1]\n",
    "        #temporary for debugging purposes\n",
    "        w_dbg = crossval(ppdf_norm,output,5,l)[2]\n",
    "    #    print(l,crossval(ppdf_norm,output,10,l))\n",
    "    #print(np.sqrt(((output.mean()*np.ones(output.shape[0])-output)**2).sum()/output.shape[0]))\n",
    "    y_dbg = np.dot(ppdf_norm,w_dbg)\n",
    "    return mean_ans,std_ans,y_dbg\n",
    "    "
   ]
  },
  {
   "cell_type": "code",
   "execution_count": 54,
   "metadata": {},
   "outputs": [
    {
     "data": {
      "text/plain": [
       "array([0.15227746, 0.15227746, 0.15227746, 0.15227746, 0.15227746,\n",
       "       0.15227746, 0.15227746, 0.15227746, 0.15227746, 0.15227746,\n",
       "       0.15227746])"
      ]
     },
     "execution_count": 54,
     "metadata": {},
     "output_type": "execute_result"
    }
   ],
   "source": [
    "a = my_Ridge(train.iloc[:,1:-1],train.iloc[:,[-1]])\n",
    "a[0]"
   ]
  },
  {
   "cell_type": "code",
   "execution_count": 51,
   "metadata": {},
   "outputs": [
    {
     "data": {
      "text/plain": [
       "[<matplotlib.lines.Line2D at 0x1db1a12a978>]"
      ]
     },
     "execution_count": 51,
     "metadata": {},
     "output_type": "execute_result"
    },
    {
     "data": {
      "image/png": "[encoded data removed]",
      "text/plain": [
       "<Figure size 432x288 with 1 Axes>"
      ]
     },
     "metadata": {
      "needs_background": "light"
     },
     "output_type": "display_data"
    }
   ],
   "source": [
    "plt.plot(a[2],train.iloc[:,-1].values,'bo')\n",
    "plt.plot([1, 600000], [1, 600000], 'k-', lw=2)\n"
   ]
  },
  {
   "cell_type": "code",
   "execution_count": 100,
   "metadata": {},
   "outputs": [
    {
     "data": {
      "text/plain": [
       "(array([  1.,   1.,   0.,   2.,   1.,   1.,   3.,   5.,  13.,  32., 130.,\n",
       "        530., 589., 132.,  14.,   2.,   2.,   0.,   0.,   0.,   0.,   0.,\n",
       "          0.,   0.,   1.,   0.,   0.,   0.,   0.,   1.]),\n",
       " array([-319224.38529564, -292465.17644458, -265705.96759353,\n",
       "        -238946.75874248, -212187.54989143, -185428.34104038,\n",
       "        -158669.13218933, -131909.92333827, -105150.71448722,\n",
       "         -78391.50563617,  -51632.29678512,  -24873.08793407,\n",
       "           1886.12091698,   28645.32976804,   55404.53861909,\n",
       "          82163.74747014,  108922.95632119,  135682.16517224,\n",
       "         162441.37402329,  189200.58287434,  215959.7917254 ,\n",
       "         242719.00057645,  269478.2094275 ,  296237.41827855,\n",
       "         322996.6271296 ,  349755.83598065,  376515.04483171,\n",
       "         403274.25368276,  430033.46253381,  456792.67138486,\n",
       "         483551.88023591]),\n",
       " <a list of 30 Patch objects>)"
      ]
     },
     "execution_count": 100,
     "metadata": {},
     "output_type": "execute_result"
    },
    {
     "data": {
      "image/png": "[encoded data removed]",
      "text/plain": [
       "<Figure size 432x288 with 1 Axes>"
      ]
     },
     "metadata": {
      "needs_background": "light"
     },
     "output_type": "display_data"
    }
   ],
   "source": [
    "plt.hist(a[2] - train.iloc[:,-1].values,30)"
   ]
  },
  {
   "cell_type": "code",
   "execution_count": null,
   "metadata": {},
   "outputs": [],
   "source": []
  }
 ],
 "metadata": {
  "kernelspec": {
   "display_name": "Python 3",
   "language": "python",
   "name": "python3"
  },
  "language_info": {
   "codemirror_mode": {
    "name": "ipython",
    "version": 3
   },
   "file_extension": ".py",
   "mimetype": "text/x-python",
   "name": "python",
   "nbconvert_exporter": "python",
   "pygments_lexer": "ipython3",
   "version": "3.7.0"
  }
 },
 "nbformat": 4,
 "nbformat_minor": 2
}
